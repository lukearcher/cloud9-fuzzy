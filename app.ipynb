{
 "cells": [
  {
   "cell_type": "code",
   "execution_count": 1,
   "id": "ccdbf6c8",
   "metadata": {},
   "outputs": [],
   "source": [
    "# imports for images\n",
    "from IPython import display"
   ]
  },
  {
   "cell_type": "code",
   "execution_count": 2,
   "id": "f3eda7ac",
   "metadata": {},
   "outputs": [
    {
     "data": {
      "image/jpeg": "[encoded data removed]",
      "text/plain": [
       "<IPython.core.display.Image object>"
      ]
     },
     "execution_count": 2,
     "metadata": {},
     "output_type": "execute_result"
    }
   ],
   "source": [
    "# display the image\n",
    "display.Image(\"images/logo.jpg\")"
   ]
  },
  {
   "cell_type": "markdown",
   "id": "67fbc3f9",
   "metadata": {},
   "source": [
    "# Cloud9 Demo"
   ]
  },
  {
   "cell_type": "markdown",
   "id": "a8fe9db9",
   "metadata": {},
   "source": [
    "### Fuzzy Matching"
   ]
  },
  {
   "cell_type": "markdown",
   "id": "7901d290",
   "metadata": {},
   "source": [
    "The purpose of this page is to demonstrate a simple fuzzy matching alogrithm.\n",
    "\n",
    "To use this please enter the two names to test in the <b>Name 1</b> and <b>Name 2</b> boxes.\n",
    "\n",
    "Then click the <b>Fuzzy Matching</b> button.\n",
    "\n",
    "This will perform simple fuzzy matching and output 3 separate scores:\n",
    "\n",
    "1. <u>Fuzzy Score</u> is the overall score (in order)\n",
    "2. <u>Partial Score</u> is done by comparing the shortest name to the others\n",
    "3. <u>Token Score</u> is the score without worrying about the order of the names (just in case we are comparing last and first names in the opposite order)\n",
    "\n",
    "The scores range beteen 0 and 1, with a higher score indicating a higher confidence in the match.\n",
    "\n",
    "Have fun!"
   ]
  },
  {
   "cell_type": "code",
   "execution_count": 4,
   "id": "64cc9bec",
   "metadata": {},
   "outputs": [],
   "source": [
    "# fuzzy matching imports\n",
    "from fuzzywuzzy import fuzz\n",
    "from fuzzywuzzy import process"
   ]
  },
  {
   "cell_type": "code",
   "execution_count": 5,
   "id": "45a35595",
   "metadata": {},
   "outputs": [],
   "source": [
    "# ipywidgets\n",
    "import ipywidgets as widgets"
   ]
  },
  {
   "cell_type": "code",
   "execution_count": 6,
   "id": "5461aa6d",
   "metadata": {},
   "outputs": [],
   "source": [
    "# first widget... the analysis text\n",
    "name1_text = widgets.Text(\n",
    "    value='John Smith',\n",
    "    description='Name 1',\n",
    "    disabled=False\n",
    ")"
   ]
  },
  {
   "cell_type": "code",
   "execution_count": 7,
   "id": "fcf67e32",
   "metadata": {},
   "outputs": [],
   "source": [
    "# second widget... the analysis text\n",
    "name2_text = widgets.Text(\n",
    "    value='Jane Citizen',\n",
    "    description='Name 2',\n",
    "    disabled=False\n",
    ")"
   ]
  },
  {
   "cell_type": "code",
   "execution_count": 8,
   "id": "daed5450",
   "metadata": {},
   "outputs": [],
   "source": [
    "# overall matching score\n",
    "def get_fuzz_ratio(name1, name2):\n",
    "    return fuzz.ratio(name1,name2)"
   ]
  },
  {
   "cell_type": "code",
   "execution_count": 9,
   "id": "b7dc5173",
   "metadata": {},
   "outputs": [],
   "source": [
    "# partial score\n",
    "def get_fuzz_partial_ratio(name1, name2):\n",
    "    return fuzz.partial_ratio(name1,name2)"
   ]
  },
  {
   "cell_type": "code",
   "execution_count": 10,
   "id": "e8a01128",
   "metadata": {},
   "outputs": [],
   "source": [
    "# token score\n",
    "def get_fuzz_token_sort_ratio(name1, name2):\n",
    "    return fuzz.token_sort_ratio(name1,name2)"
   ]
  },
  {
   "cell_type": "code",
   "execution_count": 11,
   "id": "01addf04",
   "metadata": {},
   "outputs": [],
   "source": [
    "# output object\n",
    "out = widgets.Output(layout={'border': '1px solid black'})\n",
    "out.append_stdout('Fuzzy Matching Results:')"
   ]
  },
  {
   "cell_type": "code",
   "execution_count": 12,
   "id": "709292ef",
   "metadata": {},
   "outputs": [],
   "source": [
    "# function to clear the output\n",
    "def clear_output(): out.clear_output()"
   ]
  },
  {
   "cell_type": "code",
   "execution_count": 13,
   "id": "ea9791cb",
   "metadata": {},
   "outputs": [],
   "source": [
    "# function to return the sentiment score and print it to standard output\n",
    "def return_fuzzy_score(def_string):\n",
    "    # first let's clear the output\n",
    "    clear_output()\n",
    "    # now grab the text for analysis\n",
    "    name1 = name1_text.value\n",
    "    name2 = name2_text.value\n",
    "    # return the fuzzy matching scores\n",
    "    fuzzy_score = get_fuzz_ratio(name1, name2)\n",
    "    partial_score = get_fuzz_partial_ratio(name1, name2)\n",
    "    token_score = get_fuzz_token_sort_ratio(name1, name2)\n",
    "    # create the result string\n",
    "    result_string = f\"Fuzzy matching results:\\nFuzzy Score: {fuzzy_score}\\nPartial Score: {partial_score}\\nToken Score: {token_score}\"  \n",
    "    # clear the output widget\n",
    "    clear_output()\n",
    "    # print out the results\n",
    "    with out: print(result_string)"
   ]
  },
  {
   "cell_type": "code",
   "execution_count": 14,
   "id": "1b17dbd5",
   "metadata": {},
   "outputs": [],
   "source": [
    "# create the button object\n",
    "button = widgets.Button(\n",
    "    description='Fuzzy Matching',\n",
    "    disabled=False,\n",
    "    tooltip='Perform Fuzzy Matching'\n",
    ")\n",
    "# set the event handler \n",
    "button.on_click(return_fuzzy_score)"
   ]
  },
  {
   "cell_type": "code",
   "execution_count": 15,
   "id": "b7a27241",
   "metadata": {},
   "outputs": [
    {
     "data": {
      "application/vnd.jupyter.widget-view+json": {
       "model_id": "4bb93fc3e3c74fdfb3bc9e95d4046976",
       "version_major": 2,
       "version_minor": 0
      },
      "text/plain": [
       "Text(value='John Smith', description='Name 1')"
      ]
     },
     "metadata": {},
     "output_type": "display_data"
    }
   ],
   "source": [
    "# display the text\n",
    "name1_text"
   ]
  },
  {
   "cell_type": "code",
   "execution_count": 16,
   "id": "0a545e66",
   "metadata": {},
   "outputs": [
    {
     "data": {
      "application/vnd.jupyter.widget-view+json": {
       "model_id": "691988abb4e94a02bacd1467fd3aa867",
       "version_major": 2,
       "version_minor": 0
      },
      "text/plain": [
       "Text(value='Jane Citizen', description='Name 2')"
      ]
     },
     "metadata": {},
     "output_type": "display_data"
    }
   ],
   "source": [
    "# display the text\n",
    "name2_text"
   ]
  },
  {
   "cell_type": "code",
   "execution_count": 17,
   "id": "5e095875",
   "metadata": {},
   "outputs": [
    {
     "data": {
      "application/vnd.jupyter.widget-view+json": {
       "model_id": "d16889c128a545898ef0162912feb49a",
       "version_major": 2,
       "version_minor": 0
      },
      "text/plain": [
       "Button(description='Fuzzy Matching', style=ButtonStyle(), tooltip='Perform Fuzzy Matching')"
      ]
     },
     "metadata": {},
     "output_type": "display_data"
    }
   ],
   "source": [
    "# display the button\n",
    "button"
   ]
  },
  {
   "cell_type": "code",
   "execution_count": 18,
   "id": "c7633149",
   "metadata": {},
   "outputs": [
    {
     "data": {
      "application/vnd.jupyter.widget-view+json": {
       "model_id": "31d40e006ec84179a44f5410bdf85e25",
       "version_major": 2,
       "version_minor": 0
      },
      "text/plain": [
       "Output(layout=Layout(border='1px solid black'), outputs=({'output_type': 'stream', 'name': 'stdout', 'text': '…"
      ]
     },
     "metadata": {},
     "output_type": "display_data"
    }
   ],
   "source": [
    "# show the output widget\n",
    "out"
   ]
  }
 ],
 "metadata": {
  "kernelspec": {
   "display_name": "Python 3 (ipykernel)",
   "language": "python",
   "name": "python3"
  },
  "language_info": {
   "codemirror_mode": {
    "name": "ipython",
    "version": 3
   },
   "file_extension": ".py",
   "mimetype": "text/x-python",
   "name": "python",
   "nbconvert_exporter": "python",
   "pygments_lexer": "ipython3",
   "version": "3.7.13"
  }
 },
 "nbformat": 4,
 "nbformat_minor": 5
}
